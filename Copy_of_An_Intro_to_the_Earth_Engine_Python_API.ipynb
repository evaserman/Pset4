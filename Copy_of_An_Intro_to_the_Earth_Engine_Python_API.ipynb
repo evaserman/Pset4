{
  "nbformat": 4,
  "nbformat_minor": 0,
  "metadata": {
    "colab": {
      "name": "Copy of An Intro to the Earth Engine Python API",
      "provenance": [],
      "collapsed_sections": []
    },
    "kernelspec": {
      "name": "python3",
      "display_name": "Python 3"
    }
  },
  "cells": [
    {
      "cell_type": "code",
      "metadata": {
        "id": "XeFsiSp2aDL6",
        "colab": {
          "base_uri": "https://localhost:8080/"
        },
        "outputId": "abe410ea-00f6-4694-e2b4-cd60a7b52412"
      },
      "source": [
        "import ee\n",
        "\n",
        "# Trigger the authentication flow.\n",
        "ee.Authenticate()\n",
        "\n",
        "# Initialize the library.\n",
        "ee.Initialize()"
      ],
      "execution_count": null,
      "outputs": [
        {
          "output_type": "stream",
          "name": "stdout",
          "text": [
            "To authorize access needed by Earth Engine, open the following URL in a web browser and follow the instructions. If the web browser does not start automatically, please manually browse the URL below.\n",
            "\n",
            "    https://accounts.google.com/o/oauth2/auth?client_id=517222506229-vsmmajv00ul0bs7p89v5m89qs8eb9359.apps.googleusercontent.com&scope=https%3A%2F%2Fwww.googleapis.com%2Fauth%2Fearthengine+https%3A%2F%2Fwww.googleapis.com%2Fauth%2Fdevstorage.full_control&redirect_uri=urn%3Aietf%3Awg%3Aoauth%3A2.0%3Aoob&response_type=code&code_challenge=-hPq7Q2J-NsknHV-aF4h4qIi0Slhy0h4uDdhc-RMhBA&code_challenge_method=S256\n",
            "\n",
            "The authorization workflow will generate a code, which you should paste in the box below. \n",
            "Enter verification code: 4/1AX4XfWhy1TgJrC2ylW8bm4r7wFALuT_MtpYLWcNJ4WoN5FhS0gOAOtLcm74\n",
            "\n",
            "Successfully saved authorization token.\n"
          ]
        }
      ]
    },
    {
      "cell_type": "code",
      "source": [
        "precip = ee.ImageCollection(\"IDAHO_EPSCOR/GRIDMET\")\n",
        "start = '2019-11-01'\n",
        "end = '2020-12-01'\n",
        "precip = precip.select('pr').filterDate(start, end)\n",
        "# coordinates of NYC\n",
        "lon = -73.9442\n",
        "lat = 40.6782\n",
        "point = ee.Geometry.Point(lon, lat)"
      ],
      "metadata": {
        "id": "wM3YxeasdAVj"
      },
      "execution_count": null,
      "outputs": []
    },
    {
      "cell_type": "code",
      "source": [
        "scale = 100\n",
        "precipnyc = precip.getRegion(point, scale).getInfo()\n",
        "precipnyc[:30]"
      ],
      "metadata": {
        "colab": {
          "base_uri": "https://localhost:8080/"
        },
        "id": "oxxKuoKSdtX9",
        "outputId": "8661cef2-dfbd-496e-889f-52dbafa419d4"
      },
      "execution_count": null,
      "outputs": [
        {
          "output_type": "execute_result",
          "data": {
            "text/plain": [
              "[['id', 'longitude', 'latitude', 'time', 'pr'],\n",
              " ['20191101', -73.94437345465636, 40.677961853142236, 1572588000000, 0],\n",
              " ['20191102', -73.94437345465636, 40.677961853142236, 1572674400000, 0],\n",
              " ['20191103', -73.94437345465636, 40.677961853142236, 1572760800000, 0],\n",
              " ['20191104', -73.94437345465636, 40.677961853142236, 1572847200000, 0],\n",
              " ['20191105', -73.94437345465636, 40.677961853142236, 1572933600000, 0],\n",
              " ['20191106', -73.94437345465636, 40.677961853142236, 1573020000000, 0],\n",
              " ['20191107',\n",
              "  -73.94437345465636,\n",
              "  40.677961853142236,\n",
              "  1573106400000,\n",
              "  3.200000047683716],\n",
              " ['20191108', -73.94437345465636, 40.677961853142236, 1573192800000, 0],\n",
              " ['20191109', -73.94437345465636, 40.677961853142236, 1573279200000, 0],\n",
              " ['20191110', -73.94437345465636, 40.677961853142236, 1573365600000, 0],\n",
              " ['20191111', -73.94437345465636, 40.677961853142236, 1573452000000, 0],\n",
              " ['20191112',\n",
              "  -73.94437345465636,\n",
              "  40.677961853142236,\n",
              "  1573538400000,\n",
              "  2.200000047683716],\n",
              " ['20191113', -73.94437345465636, 40.677961853142236, 1573624800000, 0],\n",
              " ['20191114', -73.94437345465636, 40.677961853142236, 1573711200000, 0],\n",
              " ['20191115', -73.94437345465636, 40.677961853142236, 1573797600000, 0],\n",
              " ['20191116', -73.94437345465636, 40.677961853142236, 1573884000000, 0],\n",
              " ['20191117', -73.94437345465636, 40.677961853142236, 1573970400000, 0],\n",
              " ['20191118',\n",
              "  -73.94437345465636,\n",
              "  40.677961853142236,\n",
              "  1574056800000,\n",
              "  14.199999809265137],\n",
              " ['20191119', -73.94437345465636, 40.677961853142236, 1574143200000, 0],\n",
              " ['20191120', -73.94437345465636, 40.677961853142236, 1574229600000, 0],\n",
              " ['20191121', -73.94437345465636, 40.677961853142236, 1574316000000, 0],\n",
              " ['20191122',\n",
              "  -73.94437345465636,\n",
              "  40.677961853142236,\n",
              "  1574402400000,\n",
              "  1.7999999523162842],\n",
              " ['20191123',\n",
              "  -73.94437345465636,\n",
              "  40.677961853142236,\n",
              "  1574488800000,\n",
              "  10.399999618530273],\n",
              " ['20191124', -73.94437345465636, 40.677961853142236, 1574575200000, 9.5],\n",
              " ['20191125', -73.94437345465636, 40.677961853142236, 1574661600000, 0],\n",
              " ['20191126', -73.94437345465636, 40.677961853142236, 1574748000000, 0],\n",
              " ['20191127', -73.94437345465636, 40.677961853142236, 1574834400000, 2.5],\n",
              " ['20191128', -73.94437345465636, 40.677961853142236, 1574920800000, 0],\n",
              " ['20191129', -73.94437345465636, 40.677961853142236, 1575007200000, 0]]"
            ]
          },
          "metadata": {},
          "execution_count": 105
        }
      ]
    },
    {
      "cell_type": "code",
      "source": [
        "import pandas as pd\n",
        "\n",
        "def ee_array_to_df(arr, list_of_bands):\n",
        "    df = pd.DataFrame(arr)\n",
        "\n",
        "    headers = df.iloc[0]\n",
        "    df = pd.DataFrame(df.values[1:], columns=headers)\n",
        "\n",
        "    df = df[['longitude', 'latitude', 'time', *list_of_bands]].dropna()\n",
        "\n",
        "    for band in list_of_bands:\n",
        "        df[band] = pd.to_numeric(df[band], errors='coerce')\n",
        "    df['datetime'] = pd.to_datetime(df['time'], unit='ms')\n",
        "    df = df[['time','datetime',  *list_of_bands]]\n",
        "    return df"
      ],
      "metadata": {
        "id": "prxGKb5MePDl"
      },
      "execution_count": null,
      "outputs": []
    },
    {
      "cell_type": "code",
      "source": [
        "import matplotlib.pyplot as plt\n",
        "%matplotlib inline\n",
        "\n",
        "precipitation = ee_array_to_df(precipnyc,['pr'])\n",
        "\n",
        "fig, ax = plt.subplots(figsize=(14, 6))\n",
        "ax.scatter(precipitation['datetime'], precipitation['pr'], c = 'green', alpha = 1)\n",
        "ax.set_title('Precipitation in Brooklyn, NYC', fontsize = 16)\n",
        "ax.set_xlabel('Date', fontsize = 15)\n",
        "ax.set_ylabel('Total Precipitation (mm)', fontsize = 15)\n",
        "ax.set_ylim(0, 80)\n",
        "plt.show()"
      ],
      "metadata": {
        "colab": {
          "base_uri": "https://localhost:8080/",
          "height": 411
        },
        "id": "H3UYwD4ZeZmR",
        "outputId": "af7752e2-df30-40cb-b80c-caa0ef946ad5"
      },
      "execution_count": null,
      "outputs": [
        {
          "output_type": "display_data",
          "data": {
            "image/png": "[encoded data removed]",
            "text/plain": [
              "<Figure size 1008x432 with 1 Axes>"
            ]
          },
          "metadata": {
            "needs_background": "light"
          }
        }
      ]
    },
    {
      "cell_type": "code",
      "source": [
        "precipitation = ee.ImageCollection(\"IDAHO_EPSCOR/GRIDMET\")\n",
        "start = '2010-01-01'\n",
        "end = '2010-01-01'\n",
        "precipitation = precipitation.select('pr').filterDate(start, end)\n",
        "region = point.buffer(1e6)\n",
        "precipchart = precip.mean()\n",
        "from IPython.display import Image\n",
        "url = precipchart.getThumbUrl({\n",
        "    'min': 0.0, 'max': 1.0, 'dimensions': 2048, 'region': region,\n",
        "    'palette': ['00008B','7FFFD4','00BFFF', 'CAFF70', '00FA9A','E3CF57', 'yellow', 'orange','FF7F50', 'red', 'CD2626', '800000']\n",
        "})\n",
        "\n",
        "print(url)\n",
        "Image(url=url)"
      ],
      "metadata": {
        "colab": {
          "base_uri": "https://localhost:8080/",
          "height": 1000
        },
        "id": "uwhjV8uvgVEk",
        "outputId": "b08389bf-b6de-40d7-bcca-de9481da9d7a"
      },
      "execution_count": null,
      "outputs": [
        {
          "output_type": "stream",
          "name": "stdout",
          "text": [
            "https://earthengine.googleapis.com/v1alpha/projects/earthengine-legacy/thumbnails/67b820b26e5a560e56fd513d8ce92921-9c7893fc24c4f19b2db4dfa90757dff5:getPixels\n"
          ]
        },
        {
          "output_type": "execute_result",
          "data": {
            "text/html": [
              "<img src=\"https://earthengine.googleapis.com/v1alpha/projects/earthengine-legacy/thumbnails/67b820b26e5a560e56fd513d8ce92921-9c7893fc24c4f19b2db4dfa90757dff5:getPixels\"/>"
            ],
            "text/plain": [
              "<IPython.core.display.Image object>"
            ]
          },
          "metadata": {},
          "execution_count": 148
        }
      ]
    }
  ]
}